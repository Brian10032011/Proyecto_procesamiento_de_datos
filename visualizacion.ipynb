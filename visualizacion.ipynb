{
 "cells": [
  {
   "cell_type": "code",
   "execution_count": 1,
   "metadata": {},
   "outputs": [],
   "source": [
    "import pandas as pd\n",
    "import matplotlib.pyplot as plt\n",
    "import numpy as np"
   ]
  },
  {
   "cell_type": "markdown",
   "metadata": {},
   "source": [
    "LEER Y CONVERTIR A DATAFRAME EL ARCHIVO LIMPIO"
   ]
  },
  {
   "cell_type": "code",
   "execution_count": 2,
   "metadata": {},
   "outputs": [
    {
     "data": {
      "text/html": [
       "<div>\n",
       "<style scoped>\n",
       "    .dataframe tbody tr th:only-of-type {\n",
       "        vertical-align: middle;\n",
       "    }\n",
       "\n",
       "    .dataframe tbody tr th {\n",
       "        vertical-align: top;\n",
       "    }\n",
       "\n",
       "    .dataframe thead th {\n",
       "        text-align: right;\n",
       "    }\n",
       "</style>\n",
       "<table border=\"1\" class=\"dataframe\">\n",
       "  <thead>\n",
       "    <tr style=\"text-align: right;\">\n",
       "      <th></th>\n",
       "      <th>age</th>\n",
       "      <th>has_anaemia</th>\n",
       "      <th>creatinine_phosphokinase_concentration_in_blood</th>\n",
       "      <th>has_diabetes</th>\n",
       "      <th>heart_ejection_fraction</th>\n",
       "      <th>has_high_blood_pressure</th>\n",
       "      <th>platelets_concentration_in_blood</th>\n",
       "      <th>serum_creatinine_concentration_in_blood</th>\n",
       "      <th>serum_sodium_concentration_in_blood</th>\n",
       "      <th>is_male</th>\n",
       "      <th>is_smoker</th>\n",
       "      <th>days_in_study</th>\n",
       "      <th>is_dead</th>\n",
       "      <th>Categoría de Edad</th>\n",
       "    </tr>\n",
       "  </thead>\n",
       "  <tbody>\n",
       "    <tr>\n",
       "      <th>0</th>\n",
       "      <td>75</td>\n",
       "      <td>False</td>\n",
       "      <td>675.0</td>\n",
       "      <td>True</td>\n",
       "      <td>60.0</td>\n",
       "      <td>False</td>\n",
       "      <td>265000.0</td>\n",
       "      <td>1.4</td>\n",
       "      <td>125.0</td>\n",
       "      <td>False</td>\n",
       "      <td>False</td>\n",
       "      <td>205</td>\n",
       "      <td>0</td>\n",
       "      <td>Adulto mayor</td>\n",
       "    </tr>\n",
       "    <tr>\n",
       "      <th>1</th>\n",
       "      <td>60</td>\n",
       "      <td>True</td>\n",
       "      <td>754.0</td>\n",
       "      <td>True</td>\n",
       "      <td>40.0</td>\n",
       "      <td>True</td>\n",
       "      <td>328000.0</td>\n",
       "      <td>1.2</td>\n",
       "      <td>126.0</td>\n",
       "      <td>True</td>\n",
       "      <td>False</td>\n",
       "      <td>91</td>\n",
       "      <td>0</td>\n",
       "      <td>Adulto mayor</td>\n",
       "    </tr>\n",
       "    <tr>\n",
       "      <th>2</th>\n",
       "      <td>45</td>\n",
       "      <td>False</td>\n",
       "      <td>582.0</td>\n",
       "      <td>False</td>\n",
       "      <td>14.0</td>\n",
       "      <td>False</td>\n",
       "      <td>166000.0</td>\n",
       "      <td>0.8</td>\n",
       "      <td>127.0</td>\n",
       "      <td>True</td>\n",
       "      <td>False</td>\n",
       "      <td>14</td>\n",
       "      <td>1</td>\n",
       "      <td>Adulto</td>\n",
       "    </tr>\n",
       "    <tr>\n",
       "      <th>3</th>\n",
       "      <td>50</td>\n",
       "      <td>True</td>\n",
       "      <td>249.0</td>\n",
       "      <td>True</td>\n",
       "      <td>35.0</td>\n",
       "      <td>True</td>\n",
       "      <td>319000.0</td>\n",
       "      <td>1.0</td>\n",
       "      <td>128.0</td>\n",
       "      <td>False</td>\n",
       "      <td>False</td>\n",
       "      <td>28</td>\n",
       "      <td>1</td>\n",
       "      <td>Adulto</td>\n",
       "    </tr>\n",
       "    <tr>\n",
       "      <th>4</th>\n",
       "      <td>65</td>\n",
       "      <td>True</td>\n",
       "      <td>258.0</td>\n",
       "      <td>True</td>\n",
       "      <td>25.0</td>\n",
       "      <td>False</td>\n",
       "      <td>198000.0</td>\n",
       "      <td>1.4</td>\n",
       "      <td>129.0</td>\n",
       "      <td>True</td>\n",
       "      <td>False</td>\n",
       "      <td>235</td>\n",
       "      <td>1</td>\n",
       "      <td>Adulto mayor</td>\n",
       "    </tr>\n",
       "    <tr>\n",
       "      <th>...</th>\n",
       "      <td>...</td>\n",
       "      <td>...</td>\n",
       "      <td>...</td>\n",
       "      <td>...</td>\n",
       "      <td>...</td>\n",
       "      <td>...</td>\n",
       "      <td>...</td>\n",
       "      <td>...</td>\n",
       "      <td>...</td>\n",
       "      <td>...</td>\n",
       "      <td>...</td>\n",
       "      <td>...</td>\n",
       "      <td>...</td>\n",
       "      <td>...</td>\n",
       "    </tr>\n",
       "    <tr>\n",
       "      <th>219</th>\n",
       "      <td>63</td>\n",
       "      <td>False</td>\n",
       "      <td>193.0</td>\n",
       "      <td>False</td>\n",
       "      <td>60.0</td>\n",
       "      <td>True</td>\n",
       "      <td>295000.0</td>\n",
       "      <td>1.3</td>\n",
       "      <td>145.0</td>\n",
       "      <td>True</td>\n",
       "      <td>True</td>\n",
       "      <td>107</td>\n",
       "      <td>0</td>\n",
       "      <td>Adulto mayor</td>\n",
       "    </tr>\n",
       "    <tr>\n",
       "      <th>220</th>\n",
       "      <td>77</td>\n",
       "      <td>True</td>\n",
       "      <td>418.0</td>\n",
       "      <td>False</td>\n",
       "      <td>45.0</td>\n",
       "      <td>False</td>\n",
       "      <td>223000.0</td>\n",
       "      <td>1.8</td>\n",
       "      <td>145.0</td>\n",
       "      <td>True</td>\n",
       "      <td>False</td>\n",
       "      <td>180</td>\n",
       "      <td>1</td>\n",
       "      <td>Adulto mayor</td>\n",
       "    </tr>\n",
       "    <tr>\n",
       "      <th>221</th>\n",
       "      <td>65</td>\n",
       "      <td>False</td>\n",
       "      <td>118.0</td>\n",
       "      <td>False</td>\n",
       "      <td>50.0</td>\n",
       "      <td>False</td>\n",
       "      <td>194000.0</td>\n",
       "      <td>1.1</td>\n",
       "      <td>145.0</td>\n",
       "      <td>True</td>\n",
       "      <td>True</td>\n",
       "      <td>200</td>\n",
       "      <td>0</td>\n",
       "      <td>Adulto mayor</td>\n",
       "    </tr>\n",
       "    <tr>\n",
       "      <th>222</th>\n",
       "      <td>60</td>\n",
       "      <td>True</td>\n",
       "      <td>582.0</td>\n",
       "      <td>False</td>\n",
       "      <td>30.0</td>\n",
       "      <td>True</td>\n",
       "      <td>127000.0</td>\n",
       "      <td>0.9</td>\n",
       "      <td>145.0</td>\n",
       "      <td>False</td>\n",
       "      <td>False</td>\n",
       "      <td>95</td>\n",
       "      <td>0</td>\n",
       "      <td>Adulto mayor</td>\n",
       "    </tr>\n",
       "    <tr>\n",
       "      <th>223</th>\n",
       "      <td>75</td>\n",
       "      <td>False</td>\n",
       "      <td>119.0</td>\n",
       "      <td>False</td>\n",
       "      <td>50.0</td>\n",
       "      <td>True</td>\n",
       "      <td>248000.0</td>\n",
       "      <td>1.1</td>\n",
       "      <td>148.0</td>\n",
       "      <td>True</td>\n",
       "      <td>False</td>\n",
       "      <td>209</td>\n",
       "      <td>0</td>\n",
       "      <td>Adulto mayor</td>\n",
       "    </tr>\n",
       "  </tbody>\n",
       "</table>\n",
       "<p>224 rows × 14 columns</p>\n",
       "</div>"
      ],
      "text/plain": [
       "     age  has_anaemia  creatinine_phosphokinase_concentration_in_blood  \\\n",
       "0     75        False                                            675.0   \n",
       "1     60         True                                            754.0   \n",
       "2     45        False                                            582.0   \n",
       "3     50         True                                            249.0   \n",
       "4     65         True                                            258.0   \n",
       "..   ...          ...                                              ...   \n",
       "219   63        False                                            193.0   \n",
       "220   77         True                                            418.0   \n",
       "221   65        False                                            118.0   \n",
       "222   60         True                                            582.0   \n",
       "223   75        False                                            119.0   \n",
       "\n",
       "     has_diabetes  heart_ejection_fraction  has_high_blood_pressure  \\\n",
       "0            True                     60.0                    False   \n",
       "1            True                     40.0                     True   \n",
       "2           False                     14.0                    False   \n",
       "3            True                     35.0                     True   \n",
       "4            True                     25.0                    False   \n",
       "..            ...                      ...                      ...   \n",
       "219         False                     60.0                     True   \n",
       "220         False                     45.0                    False   \n",
       "221         False                     50.0                    False   \n",
       "222         False                     30.0                     True   \n",
       "223         False                     50.0                     True   \n",
       "\n",
       "     platelets_concentration_in_blood  \\\n",
       "0                            265000.0   \n",
       "1                            328000.0   \n",
       "2                            166000.0   \n",
       "3                            319000.0   \n",
       "4                            198000.0   \n",
       "..                                ...   \n",
       "219                          295000.0   \n",
       "220                          223000.0   \n",
       "221                          194000.0   \n",
       "222                          127000.0   \n",
       "223                          248000.0   \n",
       "\n",
       "     serum_creatinine_concentration_in_blood  \\\n",
       "0                                        1.4   \n",
       "1                                        1.2   \n",
       "2                                        0.8   \n",
       "3                                        1.0   \n",
       "4                                        1.4   \n",
       "..                                       ...   \n",
       "219                                      1.3   \n",
       "220                                      1.8   \n",
       "221                                      1.1   \n",
       "222                                      0.9   \n",
       "223                                      1.1   \n",
       "\n",
       "     serum_sodium_concentration_in_blood  is_male  is_smoker  days_in_study  \\\n",
       "0                                  125.0    False      False            205   \n",
       "1                                  126.0     True      False             91   \n",
       "2                                  127.0     True      False             14   \n",
       "3                                  128.0    False      False             28   \n",
       "4                                  129.0     True      False            235   \n",
       "..                                   ...      ...        ...            ...   \n",
       "219                                145.0     True       True            107   \n",
       "220                                145.0     True      False            180   \n",
       "221                                145.0     True       True            200   \n",
       "222                                145.0    False      False             95   \n",
       "223                                148.0     True      False            209   \n",
       "\n",
       "     is_dead Categoría de Edad  \n",
       "0          0      Adulto mayor  \n",
       "1          0      Adulto mayor  \n",
       "2          1            Adulto  \n",
       "3          1            Adulto  \n",
       "4          1      Adulto mayor  \n",
       "..       ...               ...  \n",
       "219        0      Adulto mayor  \n",
       "220        1      Adulto mayor  \n",
       "221        0      Adulto mayor  \n",
       "222        0      Adulto mayor  \n",
       "223        0      Adulto mayor  \n",
       "\n",
       "[224 rows x 14 columns]"
      ]
     },
     "execution_count": 2,
     "metadata": {},
     "output_type": "execute_result"
    }
   ],
   "source": [
    "df = pd.read_csv(\"resultado_df_limpio.csv\")\n",
    "dataframe = pd.DataFrame(df)\n",
    "dataframe"
   ]
  },
  {
   "cell_type": "code",
   "execution_count": 3,
   "metadata": {},
   "outputs": [
    {
     "data": {
      "text/plain": [
       "45"
      ]
     },
     "execution_count": 3,
     "metadata": {},
     "output_type": "execute_result"
    }
   ],
   "source": [
    "edades =dataframe['age'].unique()\n",
    "len(edades)"
   ]
  },
  {
   "cell_type": "markdown",
   "metadata": {},
   "source": [
    "1.GRAFICANDO LA DISTRIBUCION DE LAS EDADES EN UN HISTOGRAMA     "
   ]
  },
  {
   "cell_type": "code",
   "execution_count": 4,
   "metadata": {},
   "outputs": [
    {
     "data": {
      "text/plain": [
       "<function matplotlib.pyplot.show(close=None, block=None)>"
      ]
     },
     "execution_count": 4,
     "metadata": {},
     "output_type": "execute_result"
    },
    {
     "data": {
      "image/png": "[encoded data removed]",
      "text/plain": [
       "<Figure size 640x480 with 1 Axes>"
      ]
     },
     "metadata": {},
     "output_type": "display_data"
    }
   ],
   "source": [
    "plt.hist(edades, bins = 10 , edgecolor = 'black')\n",
    "plt.title('Distribución de Edades')\n",
    "plt.xlabel('Edades')\n",
    "plt.ylabel('Cantidad de personas')\n",
    "plt.show\n",
    "\n"
   ]
  },
  {
   "cell_type": "markdown",
   "metadata": {},
   "source": [
    "2.GRAFICA DE HISTOGRAMA AGRUPADO POR HOMBRE Y MUJER"
   ]
  },
  {
   "cell_type": "code",
   "execution_count": 18,
   "metadata": {},
   "outputs": [],
   "source": [
    "hombres_anemi = dataframe.query('is_male == True and has_anaemia == True').value_counts().shape[0]\n",
    "mujeres_anemi = dataframe.query('is_male == False and has_anaemia == True').value_counts().shape[0]\n"
   ]
  },
  {
   "cell_type": "code",
   "execution_count": 19,
   "metadata": {},
   "outputs": [],
   "source": [
    "hombres_diabe = dataframe.query('is_male == True and has_diabetes == True').value_counts().shape[0]\n",
    "mujeres_diabe = dataframe.query('is_male == False and has_diabetes == True').value_counts().shape[0]"
   ]
  },
  {
   "cell_type": "code",
   "execution_count": 20,
   "metadata": {},
   "outputs": [],
   "source": [
    "hombres_muertos = dataframe.query('is_male == True and is_dead == True').value_counts().shape[0]\n",
    "mujeres_muertas = dataframe.query('is_male == False and is_dead == True').value_counts().shape[0]"
   ]
  },
  {
   "cell_type": "code",
   "execution_count": 21,
   "metadata": {},
   "outputs": [],
   "source": [
    "hombres_fum = dataframe.query('is_male == True and is_smoker == True').value_counts().shape[0]\n",
    "mujeres_fum = dataframe.query('is_male == False and is_smoker == True').value_counts().shape[0]"
   ]
  },
  {
   "cell_type": "code",
   "execution_count": 39,
   "metadata": {},
   "outputs": [
    {
     "data": {
      "text/plain": [
       "<function matplotlib.pyplot.show(close=None, block=None)>"
      ]
     },
     "execution_count": 39,
     "metadata": {},
     "output_type": "execute_result"
    },
    {
     "data": {
      "image/png": "[encoded data removed]",
      "text/plain": [
       "<Figure size 640x480 with 1 Axes>"
      ]
     },
     "metadata": {},
     "output_type": "display_data"
    }
   ],
   "source": [
    "labels = ['Anemicos', 'Diabeticos' , 'Fumadores' , 'Muertos']\n",
    "plt.bar(labels,[hombres_anemi,hombres_diabe,hombres_fum,hombres_muertos],width=-0.35,align='edge',color='b',label='Hombres')\n",
    "plt.bar(labels,[mujeres_anemi,mujeres_diabe,mujeres_fum,mujeres_muertas],width=0.35,align='edge',color='r',label='Mujeres')\n",
    "\n",
    "plt.title('Histograma agrupado por sexo')\n",
    "plt.ylabel('Cantidad')\n",
    "plt.xlabel('Categorias')\n",
    "plt.legend(loc='upper right', fontsize='small')\n",
    "plt.legend()\n",
    "plt.show"
   ]
  },
  {
   "cell_type": "code",
   "execution_count": null,
   "metadata": {},
   "outputs": [],
   "source": []
  },
  {
   "cell_type": "code",
   "execution_count": null,
   "metadata": {},
   "outputs": [],
   "source": []
  }
 ],
 "metadata": {
  "kernelspec": {
   "display_name": "Python 3",
   "language": "python",
   "name": "python3"
  },
  "language_info": {
   "codemirror_mode": {
    "name": "ipython",
    "version": 3
   },
   "file_extension": ".py",
   "mimetype": "text/x-python",
   "name": "python",
   "nbconvert_exporter": "python",
   "pygments_lexer": "ipython3",
   "version": "3.11.4"
  }
 },
 "nbformat": 4,
 "nbformat_minor": 2
}
